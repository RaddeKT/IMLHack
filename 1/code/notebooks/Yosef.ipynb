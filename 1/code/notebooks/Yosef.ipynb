{
 "cells": [
  {
   "cell_type": "code",
   "execution_count": 30,
   "metadata": {
    "collapsed": true,
    "ExecuteTime": {
     "start_time": "2023-06-08T14:41:30.450522Z",
     "end_time": "2023-06-08T14:41:30.458220Z"
    }
   },
   "outputs": [],
   "source": [
    "import pandas as pd"
   ]
  },
  {
   "cell_type": "markdown",
   "source": [
    "# 1. Load the data\n",
    "\n"
   ],
   "metadata": {
    "collapsed": false
   }
  },
  {
   "cell_type": "code",
   "execution_count": 31,
   "outputs": [],
   "source": [
    "import pandas as pd"
   ],
   "metadata": {
    "collapsed": false,
    "ExecuteTime": {
     "start_time": "2023-06-08T14:41:30.458649Z",
     "end_time": "2023-06-08T14:41:30.466541Z"
    }
   }
  },
  {
   "cell_type": "code",
   "execution_count": 74,
   "outputs": [],
   "source": [
    "df = pd.read_csv('../datasets/agoda_cancellation_train.csv')"
   ],
   "metadata": {
    "collapsed": false,
    "ExecuteTime": {
     "start_time": "2023-06-08T18:35:31.194490Z",
     "end_time": "2023-06-08T18:35:31.353729Z"
    }
   }
  },
  {
   "cell_type": "code",
   "execution_count": 75,
   "outputs": [
    {
     "data": {
      "text/plain": "<pandas.io.formats.style.Styler at 0x1499527f0>",
      "text/html": "<style type=\"text/css\">\n#T_1f34d_row0_col0, #T_1f34d_row1_col0, #T_1f34d_row2_col0, #T_1f34d_row3_col0, #T_1f34d_row4_col0, #T_1f34d_row5_col0, #T_1f34d_row6_col0, #T_1f34d_row7_col0, #T_1f34d_row8_col0, #T_1f34d_row9_col0, #T_1f34d_row10_col0, #T_1f34d_row11_col0, #T_1f34d_row12_col0, #T_1f34d_row13_col0, #T_1f34d_row14_col0, #T_1f34d_row15_col0, #T_1f34d_row16_col0, #T_1f34d_row17_col0, #T_1f34d_row18_col0, #T_1f34d_row19_col0, #T_1f34d_row20_col0, #T_1f34d_row21_col0, #T_1f34d_row22_col0, #T_1f34d_row23_col0, #T_1f34d_row24_col0, #T_1f34d_row25_col0, #T_1f34d_row26_col0, #T_1f34d_row35_col0, #T_1f34d_row38_col0 {\n  background-color: #f2f2f2;\n  color: #000000;\n}\n#T_1f34d_row27_col0, #T_1f34d_row28_col0, #T_1f34d_row29_col0, #T_1f34d_row30_col0, #T_1f34d_row31_col0, #T_1f34d_row32_col0, #T_1f34d_row33_col0 {\n  background-color: #decbe4;\n  color: #000000;\n}\n#T_1f34d_row34_col0, #T_1f34d_row36_col0, #T_1f34d_row37_col0 {\n  background-color: #fbb4ae;\n  color: #000000;\n}\n</style>\n<table id=\"T_1f34d\">\n  <thead>\n    <tr>\n      <th class=\"blank level0\" >&nbsp;</th>\n      <th id=\"T_1f34d_level0_col0\" class=\"col_heading level0 col0\" >NA Count</th>\n      <th id=\"T_1f34d_level0_col1\" class=\"col_heading level0 col1\" >NA Percent</th>\n    </tr>\n  </thead>\n  <tbody>\n    <tr>\n      <th id=\"T_1f34d_level0_row0\" class=\"row_heading level0 row0\" >h_booking_id</th>\n      <td id=\"T_1f34d_row0_col0\" class=\"data row0 col0\" >0</td>\n      <td id=\"T_1f34d_row0_col1\" class=\"data row0 col1\" >0.00%</td>\n    </tr>\n    <tr>\n      <th id=\"T_1f34d_level0_row1\" class=\"row_heading level0 row1\" >booking_datetime</th>\n      <td id=\"T_1f34d_row1_col0\" class=\"data row1 col0\" >0</td>\n      <td id=\"T_1f34d_row1_col1\" class=\"data row1 col1\" >0.00%</td>\n    </tr>\n    <tr>\n      <th id=\"T_1f34d_level0_row2\" class=\"row_heading level0 row2\" >checkin_date</th>\n      <td id=\"T_1f34d_row2_col0\" class=\"data row2 col0\" >0</td>\n      <td id=\"T_1f34d_row2_col1\" class=\"data row2 col1\" >0.00%</td>\n    </tr>\n    <tr>\n      <th id=\"T_1f34d_level0_row3\" class=\"row_heading level0 row3\" >checkout_date</th>\n      <td id=\"T_1f34d_row3_col0\" class=\"data row3 col0\" >0</td>\n      <td id=\"T_1f34d_row3_col1\" class=\"data row3 col1\" >0.00%</td>\n    </tr>\n    <tr>\n      <th id=\"T_1f34d_level0_row4\" class=\"row_heading level0 row4\" >hotel_id</th>\n      <td id=\"T_1f34d_row4_col0\" class=\"data row4 col0\" >0</td>\n      <td id=\"T_1f34d_row4_col1\" class=\"data row4 col1\" >0.00%</td>\n    </tr>\n    <tr>\n      <th id=\"T_1f34d_level0_row5\" class=\"row_heading level0 row5\" >hotel_country_code</th>\n      <td id=\"T_1f34d_row5_col0\" class=\"data row5 col0\" >4</td>\n      <td id=\"T_1f34d_row5_col1\" class=\"data row5 col1\" >0.01%</td>\n    </tr>\n    <tr>\n      <th id=\"T_1f34d_level0_row6\" class=\"row_heading level0 row6\" >hotel_live_date</th>\n      <td id=\"T_1f34d_row6_col0\" class=\"data row6 col0\" >0</td>\n      <td id=\"T_1f34d_row6_col1\" class=\"data row6 col1\" >0.00%</td>\n    </tr>\n    <tr>\n      <th id=\"T_1f34d_level0_row7\" class=\"row_heading level0 row7\" >hotel_star_rating</th>\n      <td id=\"T_1f34d_row7_col0\" class=\"data row7 col0\" >0</td>\n      <td id=\"T_1f34d_row7_col1\" class=\"data row7 col1\" >0.00%</td>\n    </tr>\n    <tr>\n      <th id=\"T_1f34d_level0_row8\" class=\"row_heading level0 row8\" >accommadation_type_name</th>\n      <td id=\"T_1f34d_row8_col0\" class=\"data row8 col0\" >0</td>\n      <td id=\"T_1f34d_row8_col1\" class=\"data row8 col1\" >0.00%</td>\n    </tr>\n    <tr>\n      <th id=\"T_1f34d_level0_row9\" class=\"row_heading level0 row9\" >charge_option</th>\n      <td id=\"T_1f34d_row9_col0\" class=\"data row9 col0\" >0</td>\n      <td id=\"T_1f34d_row9_col1\" class=\"data row9 col1\" >0.00%</td>\n    </tr>\n    <tr>\n      <th id=\"T_1f34d_level0_row10\" class=\"row_heading level0 row10\" >h_customer_id</th>\n      <td id=\"T_1f34d_row10_col0\" class=\"data row10 col0\" >0</td>\n      <td id=\"T_1f34d_row10_col1\" class=\"data row10 col1\" >0.00%</td>\n    </tr>\n    <tr>\n      <th id=\"T_1f34d_level0_row11\" class=\"row_heading level0 row11\" >customer_nationality</th>\n      <td id=\"T_1f34d_row11_col0\" class=\"data row11 col0\" >0</td>\n      <td id=\"T_1f34d_row11_col1\" class=\"data row11 col1\" >0.00%</td>\n    </tr>\n    <tr>\n      <th id=\"T_1f34d_level0_row12\" class=\"row_heading level0 row12\" >guest_is_not_the_customer</th>\n      <td id=\"T_1f34d_row12_col0\" class=\"data row12 col0\" >0</td>\n      <td id=\"T_1f34d_row12_col1\" class=\"data row12 col1\" >0.00%</td>\n    </tr>\n    <tr>\n      <th id=\"T_1f34d_level0_row13\" class=\"row_heading level0 row13\" >guest_nationality_country_name</th>\n      <td id=\"T_1f34d_row13_col0\" class=\"data row13 col0\" >0</td>\n      <td id=\"T_1f34d_row13_col1\" class=\"data row13 col1\" >0.00%</td>\n    </tr>\n    <tr>\n      <th id=\"T_1f34d_level0_row14\" class=\"row_heading level0 row14\" >no_of_adults</th>\n      <td id=\"T_1f34d_row14_col0\" class=\"data row14 col0\" >0</td>\n      <td id=\"T_1f34d_row14_col1\" class=\"data row14 col1\" >0.00%</td>\n    </tr>\n    <tr>\n      <th id=\"T_1f34d_level0_row15\" class=\"row_heading level0 row15\" >no_of_children</th>\n      <td id=\"T_1f34d_row15_col0\" class=\"data row15 col0\" >0</td>\n      <td id=\"T_1f34d_row15_col1\" class=\"data row15 col1\" >0.00%</td>\n    </tr>\n    <tr>\n      <th id=\"T_1f34d_level0_row16\" class=\"row_heading level0 row16\" >no_of_extra_bed</th>\n      <td id=\"T_1f34d_row16_col0\" class=\"data row16 col0\" >0</td>\n      <td id=\"T_1f34d_row16_col1\" class=\"data row16 col1\" >0.00%</td>\n    </tr>\n    <tr>\n      <th id=\"T_1f34d_level0_row17\" class=\"row_heading level0 row17\" >no_of_room</th>\n      <td id=\"T_1f34d_row17_col0\" class=\"data row17 col0\" >0</td>\n      <td id=\"T_1f34d_row17_col1\" class=\"data row17 col1\" >0.00%</td>\n    </tr>\n    <tr>\n      <th id=\"T_1f34d_level0_row18\" class=\"row_heading level0 row18\" >origin_country_code</th>\n      <td id=\"T_1f34d_row18_col0\" class=\"data row18 col0\" >2</td>\n      <td id=\"T_1f34d_row18_col1\" class=\"data row18 col1\" >0.00%</td>\n    </tr>\n    <tr>\n      <th id=\"T_1f34d_level0_row19\" class=\"row_heading level0 row19\" >language</th>\n      <td id=\"T_1f34d_row19_col0\" class=\"data row19 col0\" >0</td>\n      <td id=\"T_1f34d_row19_col1\" class=\"data row19 col1\" >0.00%</td>\n    </tr>\n    <tr>\n      <th id=\"T_1f34d_level0_row20\" class=\"row_heading level0 row20\" >original_selling_amount</th>\n      <td id=\"T_1f34d_row20_col0\" class=\"data row20 col0\" >0</td>\n      <td id=\"T_1f34d_row20_col1\" class=\"data row20 col1\" >0.00%</td>\n    </tr>\n    <tr>\n      <th id=\"T_1f34d_level0_row21\" class=\"row_heading level0 row21\" >original_payment_method</th>\n      <td id=\"T_1f34d_row21_col0\" class=\"data row21 col0\" >0</td>\n      <td id=\"T_1f34d_row21_col1\" class=\"data row21 col1\" >0.00%</td>\n    </tr>\n    <tr>\n      <th id=\"T_1f34d_level0_row22\" class=\"row_heading level0 row22\" >original_payment_type</th>\n      <td id=\"T_1f34d_row22_col0\" class=\"data row22 col0\" >0</td>\n      <td id=\"T_1f34d_row22_col1\" class=\"data row22 col1\" >0.00%</td>\n    </tr>\n    <tr>\n      <th id=\"T_1f34d_level0_row23\" class=\"row_heading level0 row23\" >original_payment_currency</th>\n      <td id=\"T_1f34d_row23_col0\" class=\"data row23 col0\" >0</td>\n      <td id=\"T_1f34d_row23_col1\" class=\"data row23 col1\" >0.00%</td>\n    </tr>\n    <tr>\n      <th id=\"T_1f34d_level0_row24\" class=\"row_heading level0 row24\" >is_user_logged_in</th>\n      <td id=\"T_1f34d_row24_col0\" class=\"data row24 col0\" >0</td>\n      <td id=\"T_1f34d_row24_col1\" class=\"data row24 col1\" >0.00%</td>\n    </tr>\n    <tr>\n      <th id=\"T_1f34d_level0_row25\" class=\"row_heading level0 row25\" >cancellation_policy_code</th>\n      <td id=\"T_1f34d_row25_col0\" class=\"data row25 col0\" >0</td>\n      <td id=\"T_1f34d_row25_col1\" class=\"data row25 col1\" >0.00%</td>\n    </tr>\n    <tr>\n      <th id=\"T_1f34d_level0_row26\" class=\"row_heading level0 row26\" >is_first_booking</th>\n      <td id=\"T_1f34d_row26_col0\" class=\"data row26 col0\" >0</td>\n      <td id=\"T_1f34d_row26_col1\" class=\"data row26 col1\" >0.00%</td>\n    </tr>\n    <tr>\n      <th id=\"T_1f34d_level0_row27\" class=\"row_heading level0 row27\" >request_nonesmoke</th>\n      <td id=\"T_1f34d_row27_col0\" class=\"data row27 col0\" >25040</td>\n      <td id=\"T_1f34d_row27_col1\" class=\"data row27 col1\" >42.69%</td>\n    </tr>\n    <tr>\n      <th id=\"T_1f34d_level0_row28\" class=\"row_heading level0 row28\" >request_latecheckin</th>\n      <td id=\"T_1f34d_row28_col0\" class=\"data row28 col0\" >25040</td>\n      <td id=\"T_1f34d_row28_col1\" class=\"data row28 col1\" >42.69%</td>\n    </tr>\n    <tr>\n      <th id=\"T_1f34d_level0_row29\" class=\"row_heading level0 row29\" >request_highfloor</th>\n      <td id=\"T_1f34d_row29_col0\" class=\"data row29 col0\" >25040</td>\n      <td id=\"T_1f34d_row29_col1\" class=\"data row29 col1\" >42.69%</td>\n    </tr>\n    <tr>\n      <th id=\"T_1f34d_level0_row30\" class=\"row_heading level0 row30\" >request_largebed</th>\n      <td id=\"T_1f34d_row30_col0\" class=\"data row30 col0\" >25040</td>\n      <td id=\"T_1f34d_row30_col1\" class=\"data row30 col1\" >42.69%</td>\n    </tr>\n    <tr>\n      <th id=\"T_1f34d_level0_row31\" class=\"row_heading level0 row31\" >request_twinbeds</th>\n      <td id=\"T_1f34d_row31_col0\" class=\"data row31 col0\" >25040</td>\n      <td id=\"T_1f34d_row31_col1\" class=\"data row31 col1\" >42.69%</td>\n    </tr>\n    <tr>\n      <th id=\"T_1f34d_level0_row32\" class=\"row_heading level0 row32\" >request_airport</th>\n      <td id=\"T_1f34d_row32_col0\" class=\"data row32 col0\" >25040</td>\n      <td id=\"T_1f34d_row32_col1\" class=\"data row32 col1\" >42.69%</td>\n    </tr>\n    <tr>\n      <th id=\"T_1f34d_level0_row33\" class=\"row_heading level0 row33\" >request_earlycheckin</th>\n      <td id=\"T_1f34d_row33_col0\" class=\"data row33 col0\" >25040</td>\n      <td id=\"T_1f34d_row33_col1\" class=\"data row33 col1\" >42.69%</td>\n    </tr>\n    <tr>\n      <th id=\"T_1f34d_level0_row34\" class=\"row_heading level0 row34\" >cancellation_datetime</th>\n      <td id=\"T_1f34d_row34_col0\" class=\"data row34 col0\" >42895</td>\n      <td id=\"T_1f34d_row34_col1\" class=\"data row34 col1\" >73.13%</td>\n    </tr>\n    <tr>\n      <th id=\"T_1f34d_level0_row35\" class=\"row_heading level0 row35\" >hotel_area_code</th>\n      <td id=\"T_1f34d_row35_col0\" class=\"data row35 col0\" >0</td>\n      <td id=\"T_1f34d_row35_col1\" class=\"data row35 col1\" >0.00%</td>\n    </tr>\n    <tr>\n      <th id=\"T_1f34d_level0_row36\" class=\"row_heading level0 row36\" >hotel_brand_code</th>\n      <td id=\"T_1f34d_row36_col0\" class=\"data row36 col0\" >43356</td>\n      <td id=\"T_1f34d_row36_col1\" class=\"data row36 col1\" >73.91%</td>\n    </tr>\n    <tr>\n      <th id=\"T_1f34d_level0_row37\" class=\"row_heading level0 row37\" >hotel_chain_code</th>\n      <td id=\"T_1f34d_row37_col0\" class=\"data row37 col0\" >42902</td>\n      <td id=\"T_1f34d_row37_col1\" class=\"data row37 col1\" >73.14%</td>\n    </tr>\n    <tr>\n      <th id=\"T_1f34d_level0_row38\" class=\"row_heading level0 row38\" >hotel_city_code</th>\n      <td id=\"T_1f34d_row38_col0\" class=\"data row38 col0\" >0</td>\n      <td id=\"T_1f34d_row38_col1\" class=\"data row38 col1\" >0.00%</td>\n    </tr>\n  </tbody>\n</table>\n"
     },
     "execution_count": 75,
     "metadata": {},
     "output_type": "execute_result"
    }
   ],
   "source": [
    "NA = pd.DataFrame(data=[df.isna().sum().tolist(), [\"{:.2f}\".format(i)+'%' \\\n",
    "           for i in (df.isna().sum()/df.shape[0]*100).tolist()]],\n",
    "           columns=df.columns, index=['NA Count', 'NA Percent']).transpose()\n",
    "\n",
    "NA.style.background_gradient(cmap=\"Pastel1_r\", subset=['NA Count'])"
   ],
   "metadata": {
    "collapsed": false,
    "ExecuteTime": {
     "start_time": "2023-06-08T18:35:32.045733Z",
     "end_time": "2023-06-08T18:35:32.173039Z"
    }
   }
  },
  {
   "cell_type": "code",
   "execution_count": null,
   "outputs": [],
   "source": [
    "from sklearn.impute import SimpleImputer\n",
    "\n",
    "imp = SimpleImputer(strategy='median')\n",
    "\n",
    "df[['lead_time', 'arrival_date_week_number', 'arrival_date_day_of_month', 'stays_in_weekend_nights', 'stays_in_week_nights', 'adults', 'children', 'babies', 'previous_cancellations', 'previous_bookings_not_canceled', 'booking_changes', 'days_in_waiting_list', 'adr', 'required_car_parking_spaces', 'total_of_special_requests']] = imp.fit_transform(df[['lead_time', 'arrival_date_week_number', 'arrival_date_day_of_month', 'stays_in_weekend_nights', 'stays_in_week_nights', 'adults', 'children', 'babies', 'previous_cancellations', 'previous_bookings_not_canceled', 'booking_changes', 'days_in_waiting_list', 'adr', 'required_car_parking_spaces', 'total_of_special_requests']])\n",
    "\n"
   ],
   "metadata": {
    "collapsed": false
   }
  }
 ],
 "metadata": {
  "kernelspec": {
   "display_name": "Python 3",
   "language": "python",
   "name": "python3"
  },
  "language_info": {
   "codemirror_mode": {
    "name": "ipython",
    "version": 2
   },
   "file_extension": ".py",
   "mimetype": "text/x-python",
   "name": "python",
   "nbconvert_exporter": "python",
   "pygments_lexer": "ipython2",
   "version": "2.7.6"
  }
 },
 "nbformat": 4,
 "nbformat_minor": 0
}
